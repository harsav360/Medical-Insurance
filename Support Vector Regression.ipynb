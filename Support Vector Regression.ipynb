{
 "cells": [
  {
   "cell_type": "code",
   "execution_count": 24,
   "id": "80a84c61",
   "metadata": {},
   "outputs": [],
   "source": [
    "import numpy as np\n",
    "import pandas as pd\n",
    "import matplotlib.pyplot as plt"
   ]
  },
  {
   "cell_type": "code",
   "execution_count": 29,
   "id": "7e8dccf6",
   "metadata": {},
   "outputs": [
    {
     "ename": "ValueError",
     "evalue": "Found input variables with inconsistent numbers of samples: [10704, 1338]",
     "output_type": "error",
     "traceback": [
      "\u001b[1;31m---------------------------------------------------------------------------\u001b[0m",
      "\u001b[1;31mValueError\u001b[0m                                Traceback (most recent call last)",
      "Input \u001b[1;32mIn [29]\u001b[0m, in \u001b[0;36m<cell line: 9>\u001b[1;34m()\u001b[0m\n\u001b[0;32m      7\u001b[0m X \u001b[38;5;241m=\u001b[39m X\u001b[38;5;241m.\u001b[39mvalues\u001b[38;5;241m.\u001b[39mreshape(\u001b[38;5;241m-\u001b[39m\u001b[38;5;241m1\u001b[39m,\u001b[38;5;241m1\u001b[39m)\n\u001b[0;32m      8\u001b[0m y \u001b[38;5;241m=\u001b[39m y\u001b[38;5;241m.\u001b[39mvalues\u001b[38;5;241m.\u001b[39mreshape(\u001b[38;5;28mlen\u001b[39m(y),\u001b[38;5;241m1\u001b[39m)\n\u001b[1;32m----> 9\u001b[0m X_train, X_test, y_train, y_test \u001b[38;5;241m=\u001b[39m \u001b[43mtrain_test_split\u001b[49m\u001b[43m(\u001b[49m\u001b[43mX\u001b[49m\u001b[43m,\u001b[49m\u001b[43m \u001b[49m\u001b[43my\u001b[49m\u001b[43m,\u001b[49m\u001b[43m \u001b[49m\u001b[43mtest_size\u001b[49m\u001b[38;5;241;43m=\u001b[39;49m\u001b[38;5;241;43m0.2\u001b[39;49m\u001b[43m,\u001b[49m\u001b[43m \u001b[49m\u001b[43mrandom_state\u001b[49m\u001b[38;5;241;43m=\u001b[39;49m\u001b[38;5;241;43m42\u001b[39;49m\u001b[43m)\u001b[49m\n",
      "File \u001b[1;32mC:\\ProgramData\\Anaconda3\\lib\\site-packages\\sklearn\\model_selection\\_split.py:2417\u001b[0m, in \u001b[0;36mtrain_test_split\u001b[1;34m(test_size, train_size, random_state, shuffle, stratify, *arrays)\u001b[0m\n\u001b[0;32m   2414\u001b[0m \u001b[38;5;28;01mif\u001b[39;00m n_arrays \u001b[38;5;241m==\u001b[39m \u001b[38;5;241m0\u001b[39m:\n\u001b[0;32m   2415\u001b[0m     \u001b[38;5;28;01mraise\u001b[39;00m \u001b[38;5;167;01mValueError\u001b[39;00m(\u001b[38;5;124m\"\u001b[39m\u001b[38;5;124mAt least one array required as input\u001b[39m\u001b[38;5;124m\"\u001b[39m)\n\u001b[1;32m-> 2417\u001b[0m arrays \u001b[38;5;241m=\u001b[39m \u001b[43mindexable\u001b[49m\u001b[43m(\u001b[49m\u001b[38;5;241;43m*\u001b[39;49m\u001b[43marrays\u001b[49m\u001b[43m)\u001b[49m\n\u001b[0;32m   2419\u001b[0m n_samples \u001b[38;5;241m=\u001b[39m _num_samples(arrays[\u001b[38;5;241m0\u001b[39m])\n\u001b[0;32m   2420\u001b[0m n_train, n_test \u001b[38;5;241m=\u001b[39m _validate_shuffle_split(\n\u001b[0;32m   2421\u001b[0m     n_samples, test_size, train_size, default_test_size\u001b[38;5;241m=\u001b[39m\u001b[38;5;241m0.25\u001b[39m\n\u001b[0;32m   2422\u001b[0m )\n",
      "File \u001b[1;32mC:\\ProgramData\\Anaconda3\\lib\\site-packages\\sklearn\\utils\\validation.py:378\u001b[0m, in \u001b[0;36mindexable\u001b[1;34m(*iterables)\u001b[0m\n\u001b[0;32m    359\u001b[0m \u001b[38;5;124;03m\"\"\"Make arrays indexable for cross-validation.\u001b[39;00m\n\u001b[0;32m    360\u001b[0m \n\u001b[0;32m    361\u001b[0m \u001b[38;5;124;03mChecks consistent length, passes through None, and ensures that everything\u001b[39;00m\n\u001b[1;32m   (...)\u001b[0m\n\u001b[0;32m    374\u001b[0m \u001b[38;5;124;03m    sparse matrix, or dataframe) or `None`.\u001b[39;00m\n\u001b[0;32m    375\u001b[0m \u001b[38;5;124;03m\"\"\"\u001b[39;00m\n\u001b[0;32m    377\u001b[0m result \u001b[38;5;241m=\u001b[39m [_make_indexable(X) \u001b[38;5;28;01mfor\u001b[39;00m X \u001b[38;5;129;01min\u001b[39;00m iterables]\n\u001b[1;32m--> 378\u001b[0m \u001b[43mcheck_consistent_length\u001b[49m\u001b[43m(\u001b[49m\u001b[38;5;241;43m*\u001b[39;49m\u001b[43mresult\u001b[49m\u001b[43m)\u001b[49m\n\u001b[0;32m    379\u001b[0m \u001b[38;5;28;01mreturn\u001b[39;00m result\n",
      "File \u001b[1;32mC:\\ProgramData\\Anaconda3\\lib\\site-packages\\sklearn\\utils\\validation.py:332\u001b[0m, in \u001b[0;36mcheck_consistent_length\u001b[1;34m(*arrays)\u001b[0m\n\u001b[0;32m    330\u001b[0m uniques \u001b[38;5;241m=\u001b[39m np\u001b[38;5;241m.\u001b[39munique(lengths)\n\u001b[0;32m    331\u001b[0m \u001b[38;5;28;01mif\u001b[39;00m \u001b[38;5;28mlen\u001b[39m(uniques) \u001b[38;5;241m>\u001b[39m \u001b[38;5;241m1\u001b[39m:\n\u001b[1;32m--> 332\u001b[0m     \u001b[38;5;28;01mraise\u001b[39;00m \u001b[38;5;167;01mValueError\u001b[39;00m(\n\u001b[0;32m    333\u001b[0m         \u001b[38;5;124m\"\u001b[39m\u001b[38;5;124mFound input variables with inconsistent numbers of samples: \u001b[39m\u001b[38;5;132;01m%r\u001b[39;00m\u001b[38;5;124m\"\u001b[39m\n\u001b[0;32m    334\u001b[0m         \u001b[38;5;241m%\u001b[39m [\u001b[38;5;28mint\u001b[39m(l) \u001b[38;5;28;01mfor\u001b[39;00m l \u001b[38;5;129;01min\u001b[39;00m lengths]\n\u001b[0;32m    335\u001b[0m     )\n",
      "\u001b[1;31mValueError\u001b[0m: Found input variables with inconsistent numbers of samples: [10704, 1338]"
     ]
    }
   ],
   "source": [
    "from sklearn.model_selection import train_test_split\n",
    "data = pd.read_csv('insurance.csv')\n",
    "data_encoded = pd.get_dummies(data, columns=['sex', 'smoker', 'region'], drop_first=True)\n",
    "X = data_encoded.drop('charges', axis=1)\n",
    "y = data_encoded['charges']\n",
    "# SVR expects 2D array as input\n",
    "X = X.values.reshape(-1,1)\n",
    "y = y.values.reshape(len(y),1)\n",
    "X_train, X_test, y_train, y_test = train_test_split(X, y, test_size=0.2, random_state=42)"
   ]
  },
  {
   "cell_type": "code",
   "execution_count": 26,
   "id": "2c0b3bae",
   "metadata": {},
   "outputs": [],
   "source": [
    "from sklearn.preprocessing import StandardScaler\n",
    "sc_X = StandardScaler()\n",
    "sc_Y = StandardScaler()\n",
    "X_train = sc_X.fit_transform(X_train)\n",
    "y_train = sc_Y.fit_transform(y_train)"
   ]
  },
  {
   "cell_type": "code",
   "execution_count": 27,
   "id": "cc63841d",
   "metadata": {},
   "outputs": [
    {
     "name": "stderr",
     "output_type": "stream",
     "text": [
      "C:\\ProgramData\\Anaconda3\\lib\\site-packages\\sklearn\\utils\\validation.py:993: DataConversionWarning: A column-vector y was passed when a 1d array was expected. Please change the shape of y to (n_samples, ), for example using ravel().\n",
      "  y = column_or_1d(y, warn=True)\n"
     ]
    },
    {
     "data": {
      "text/plain": [
       "SVR()"
      ]
     },
     "execution_count": 27,
     "metadata": {},
     "output_type": "execute_result"
    }
   ],
   "source": [
    "from sklearn.svm import SVR\n",
    "model = SVR(kernel = 'rbf')\n",
    "model.fit(X_train,y_train)"
   ]
  },
  {
   "cell_type": "code",
   "execution_count": 28,
   "id": "43de1614",
   "metadata": {},
   "outputs": [
    {
     "ename": "ValueError",
     "evalue": "Expected 2D array, got 1D array instead:\narray=[-2.69949305e-01 -6.06455356e-01  1.20095142e+00 -2.61655082e-01\n  9.32096939e-01 -7.03255983e-01 -8.59218876e-01  1.34657396e-01\n -6.81965267e-01 -1.72176416e-01  3.06583503e-01 -4.14464428e-01\n -7.38691468e-01  2.49036543e+00  2.78180839e+00  2.78246102e+00\n -2.19442876e-01  2.64754244e+00 -3.54232107e-01  8.27031773e-01\n -5.56001454e-01 -3.98290157e-01 -9.02850257e-01 -7.89968701e-01\n -1.60530950e-01 -1.00069659e-01  2.39629575e-02 -5.81888249e-01\n -2.18374082e-01 -9.27827298e-01 -4.31592605e-01 -3.54432054e-02\n -8.51865015e-01 -5.12627755e-01 -7.77248130e-01 -4.04404843e-01\n -8.22756980e-01 -4.11506108e-01  8.05270665e-01  2.20088153e+00\n -5.84806174e-01 -8.03723978e-01 -3.78509739e-02 -1.33626114e-02\n -6.10760837e-01 -1.37104672e-02 -6.68882072e-01 -6.57621575e-01\n  2.29597360e+00 -6.41998761e-01  1.21234716e-01 -8.87744126e-01\n -4.57142547e-01 -8.88654972e-01 -1.23696091e-01 -1.54377699e-01\n -7.55434619e-01  1.92027425e+00 -3.57887181e-02 -1.28095725e-01\n  1.14258937e-01 -6.26201028e-01  9.58623466e-02 -3.74859705e-01\n -1.59371406e-01 -7.03408413e-01  3.45688919e-01 -1.27455435e-01\n -7.47169508e-01 -8.93158389e-01 -5.39959288e-01 -2.28424631e-01\n -3.18676407e-01 -4.94419863e-01 -4.33647393e-01 -6.18802219e-01\n -6.12754571e-01 -5.50668742e-02 -6.90876346e-01 -2.95525980e-01\n -9.04467069e-01  1.66575003e+00 -6.15986946e-01  2.16361101e+00\n  1.55485900e+00  2.06340897e+00 -6.41950996e-01 -1.29800311e-01\n -3.39174105e-01 -1.31171169e-01  2.39138369e-01  9.29446686e-01\n  1.04476257e+00 -5.97774036e-01  2.19380093e+00 -4.44211772e-01\n  1.14521524e+00 -8.61051706e-01  5.23523596e-01 -4.78102339e-01\n -6.63869892e-01 -8.61133480e-01 -5.49292843e-01 -4.52244705e-02\n  6.39509842e-02 -8.67232761e-01 -3.74069512e-01  5.51046227e-01\n -9.18273601e-01  7.03412058e-01 -9.03508459e-01 -8.16513704e-01\n  6.73759895e-02  1.70450829e+00 -1.96579646e-01 -8.50136747e-01\n  4.02815808e-02  1.20607006e+00 -5.25788734e-01 -8.05382113e-01\n -5.50600097e-01 -4.11046425e-01 -5.43636233e-02 -8.61988816e-01\n -6.21565590e-01 -3.85751088e-01 -4.29838496e-01 -2.39401178e-01\n  4.38603640e-03 -8.89734887e-01 -6.99078009e-01 -5.34587386e-01\n -5.58641901e-01 -3.43716738e-01 -5.47823911e-01  3.02583737e-03\n -6.74597672e-01  1.69420863e+00  2.39070539e+00  1.45131355e+00\n -6.18105319e-01 -1.83818214e-01 -8.36325770e-01 -9.48087510e-02\n -8.72972586e-01  1.04591637e+00 -5.93775817e-01 -7.00154365e-01\n -1.06067938e-01 -6.21533152e-01  2.56870319e+00 -8.29839508e-01\n -9.26694855e-01  1.91226895e+00 -5.05549953e-01 -6.55268572e-01\n  1.06866907e-01 -3.26078630e-01  1.38748768e+00  1.96557915e+00\n  1.08970260e-01 -7.82116377e-01  1.38657411e-01 -8.62066873e-01\n -7.16418514e-01 -4.19045152e-01  2.70463537e+00  1.64392691e+00\n  1.83494125e+00 -7.93214912e-01 -2.49235610e-01 -5.16789625e-01\n -5.53737597e-01 -6.95949676e-01 -8.37835620e-01  1.00050380e+00\n  7.21054391e-01  9.16939094e-02  1.91839294e-02 -1.75620467e-02\n  1.65641441e+00 -6.94921493e-01 -3.01347516e-01 -6.29947075e-01\n -6.21560738e-01 -8.00947170e-01 -6.89206091e-01 -7.20205932e-01\n -3.20960474e-01 -1.32223785e-01 -7.19071662e-01 -8.28725666e-01\n -7.99617125e-01  2.16965152e+00  4.41717791e-02 -2.32816342e-01\n -7.85138860e-01 -2.28766148e-02 -8.33068214e-01 -2.69280342e-01\n -8.00062477e-01  9.17814954e-01 -6.56482150e-01 -7.56111889e-01\n  5.87012801e-01  2.93007583e-01 -2.78127779e-01 -5.59082487e-01\n -3.65415561e-01 -7.90925598e-01  6.50021714e-03 -3.56310159e-02\n -2.00972683e-01  7.05635138e-01 -4.83707644e-01 -6.76335582e-01\n -6.66310904e-01  1.52830920e-01  2.43162323e-02 -6.19849737e-01\n -8.24806107e-01 -4.16126948e-01 -4.21845076e-01  2.65706930e+00\n -8.50126537e-01  1.40220413e+00 -8.88426487e-01 -8.74372976e-01\n -2.33439193e-01 -7.71195923e-02 -8.93955079e-01 -1.73438751e-01\n -6.61081116e-01  1.35962474e+00 -1.45967123e-01 -3.31570458e-01\n -6.86449744e-01 -5.17474636e-01  2.77621433e+00 -8.85830714e-01\n  6.85726190e-02  2.02675808e+00 -7.85560499e-01 -7.84160925e-01\n -8.85606642e-01 -8.06349772e-01 -6.77565323e-01 -6.81861363e-01\n  6.41292972e-02 -8.37996216e-01 -8.50903939e-01 -4.64324792e-01\n -7.60991974e-01 -1.95995880e-02 -7.70658881e-01 -7.93324757e-01\n -2.24958113e-02 -7.62561494e-01 -2.97910032e-01 -5.32965023e-01\n -4.04516873e-01  1.09475886e-01  1.01298179e+00  2.68871499e+00\n  2.68474187e-03 -5.19562593e-01  2.50085098e+00 -1.93803508e-01].\nReshape your data either using array.reshape(-1, 1) if your data has a single feature or array.reshape(1, -1) if it contains a single sample.",
     "output_type": "error",
     "traceback": [
      "\u001b[1;31m---------------------------------------------------------------------------\u001b[0m",
      "\u001b[1;31mValueError\u001b[0m                                Traceback (most recent call last)",
      "Input \u001b[1;32mIn [28]\u001b[0m, in \u001b[0;36m<cell line: 1>\u001b[1;34m()\u001b[0m\n\u001b[1;32m----> 1\u001b[0m y_pred \u001b[38;5;241m=\u001b[39m \u001b[43msc_Y\u001b[49m\u001b[38;5;241;43m.\u001b[39;49m\u001b[43minverse_transform\u001b[49m\u001b[43m(\u001b[49m\u001b[43mmodel\u001b[49m\u001b[38;5;241;43m.\u001b[39;49m\u001b[43mpredict\u001b[49m\u001b[43m(\u001b[49m\u001b[43msc_X\u001b[49m\u001b[38;5;241;43m.\u001b[39;49m\u001b[43mtransform\u001b[49m\u001b[43m(\u001b[49m\u001b[43mX_test\u001b[49m\u001b[43m)\u001b[49m\u001b[43m)\u001b[49m\u001b[43m)\u001b[49m\n",
      "File \u001b[1;32mC:\\ProgramData\\Anaconda3\\lib\\site-packages\\sklearn\\preprocessing\\_data.py:1016\u001b[0m, in \u001b[0;36mStandardScaler.inverse_transform\u001b[1;34m(self, X, copy)\u001b[0m\n\u001b[0;32m   1013\u001b[0m check_is_fitted(\u001b[38;5;28mself\u001b[39m)\n\u001b[0;32m   1015\u001b[0m copy \u001b[38;5;241m=\u001b[39m copy \u001b[38;5;28;01mif\u001b[39;00m copy \u001b[38;5;129;01mis\u001b[39;00m \u001b[38;5;129;01mnot\u001b[39;00m \u001b[38;5;28;01mNone\u001b[39;00m \u001b[38;5;28;01melse\u001b[39;00m \u001b[38;5;28mself\u001b[39m\u001b[38;5;241m.\u001b[39mcopy\n\u001b[1;32m-> 1016\u001b[0m X \u001b[38;5;241m=\u001b[39m \u001b[43mcheck_array\u001b[49m\u001b[43m(\u001b[49m\n\u001b[0;32m   1017\u001b[0m \u001b[43m    \u001b[49m\u001b[43mX\u001b[49m\u001b[43m,\u001b[49m\n\u001b[0;32m   1018\u001b[0m \u001b[43m    \u001b[49m\u001b[43maccept_sparse\u001b[49m\u001b[38;5;241;43m=\u001b[39;49m\u001b[38;5;124;43m\"\u001b[39;49m\u001b[38;5;124;43mcsr\u001b[39;49m\u001b[38;5;124;43m\"\u001b[39;49m\u001b[43m,\u001b[49m\n\u001b[0;32m   1019\u001b[0m \u001b[43m    \u001b[49m\u001b[43mcopy\u001b[49m\u001b[38;5;241;43m=\u001b[39;49m\u001b[43mcopy\u001b[49m\u001b[43m,\u001b[49m\n\u001b[0;32m   1020\u001b[0m \u001b[43m    \u001b[49m\u001b[43mestimator\u001b[49m\u001b[38;5;241;43m=\u001b[39;49m\u001b[38;5;28;43mself\u001b[39;49m\u001b[43m,\u001b[49m\n\u001b[0;32m   1021\u001b[0m \u001b[43m    \u001b[49m\u001b[43mdtype\u001b[49m\u001b[38;5;241;43m=\u001b[39;49m\u001b[43mFLOAT_DTYPES\u001b[49m\u001b[43m,\u001b[49m\n\u001b[0;32m   1022\u001b[0m \u001b[43m    \u001b[49m\u001b[43mforce_all_finite\u001b[49m\u001b[38;5;241;43m=\u001b[39;49m\u001b[38;5;124;43m\"\u001b[39;49m\u001b[38;5;124;43mallow-nan\u001b[39;49m\u001b[38;5;124;43m\"\u001b[39;49m\u001b[43m,\u001b[49m\n\u001b[0;32m   1023\u001b[0m \u001b[43m\u001b[49m\u001b[43m)\u001b[49m\n\u001b[0;32m   1025\u001b[0m \u001b[38;5;28;01mif\u001b[39;00m sparse\u001b[38;5;241m.\u001b[39missparse(X):\n\u001b[0;32m   1026\u001b[0m     \u001b[38;5;28;01mif\u001b[39;00m \u001b[38;5;28mself\u001b[39m\u001b[38;5;241m.\u001b[39mwith_mean:\n",
      "File \u001b[1;32mC:\\ProgramData\\Anaconda3\\lib\\site-packages\\sklearn\\utils\\validation.py:769\u001b[0m, in \u001b[0;36mcheck_array\u001b[1;34m(array, accept_sparse, accept_large_sparse, dtype, order, copy, force_all_finite, ensure_2d, allow_nd, ensure_min_samples, ensure_min_features, estimator)\u001b[0m\n\u001b[0;32m    767\u001b[0m     \u001b[38;5;66;03m# If input is 1D raise error\u001b[39;00m\n\u001b[0;32m    768\u001b[0m     \u001b[38;5;28;01mif\u001b[39;00m array\u001b[38;5;241m.\u001b[39mndim \u001b[38;5;241m==\u001b[39m \u001b[38;5;241m1\u001b[39m:\n\u001b[1;32m--> 769\u001b[0m         \u001b[38;5;28;01mraise\u001b[39;00m \u001b[38;5;167;01mValueError\u001b[39;00m(\n\u001b[0;32m    770\u001b[0m             \u001b[38;5;124m\"\u001b[39m\u001b[38;5;124mExpected 2D array, got 1D array instead:\u001b[39m\u001b[38;5;130;01m\\n\u001b[39;00m\u001b[38;5;124marray=\u001b[39m\u001b[38;5;132;01m{}\u001b[39;00m\u001b[38;5;124m.\u001b[39m\u001b[38;5;130;01m\\n\u001b[39;00m\u001b[38;5;124m\"\u001b[39m\n\u001b[0;32m    771\u001b[0m             \u001b[38;5;124m\"\u001b[39m\u001b[38;5;124mReshape your data either using array.reshape(-1, 1) if \u001b[39m\u001b[38;5;124m\"\u001b[39m\n\u001b[0;32m    772\u001b[0m             \u001b[38;5;124m\"\u001b[39m\u001b[38;5;124myour data has a single feature or array.reshape(1, -1) \u001b[39m\u001b[38;5;124m\"\u001b[39m\n\u001b[0;32m    773\u001b[0m             \u001b[38;5;124m\"\u001b[39m\u001b[38;5;124mif it contains a single sample.\u001b[39m\u001b[38;5;124m\"\u001b[39m\u001b[38;5;241m.\u001b[39mformat(array)\n\u001b[0;32m    774\u001b[0m         )\n\u001b[0;32m    776\u001b[0m \u001b[38;5;66;03m# make sure we actually converted to numeric:\u001b[39;00m\n\u001b[0;32m    777\u001b[0m \u001b[38;5;28;01mif\u001b[39;00m dtype_numeric \u001b[38;5;129;01mand\u001b[39;00m array\u001b[38;5;241m.\u001b[39mdtype\u001b[38;5;241m.\u001b[39mkind \u001b[38;5;129;01min\u001b[39;00m \u001b[38;5;124m\"\u001b[39m\u001b[38;5;124mOUSV\u001b[39m\u001b[38;5;124m\"\u001b[39m:\n",
      "\u001b[1;31mValueError\u001b[0m: Expected 2D array, got 1D array instead:\narray=[-2.69949305e-01 -6.06455356e-01  1.20095142e+00 -2.61655082e-01\n  9.32096939e-01 -7.03255983e-01 -8.59218876e-01  1.34657396e-01\n -6.81965267e-01 -1.72176416e-01  3.06583503e-01 -4.14464428e-01\n -7.38691468e-01  2.49036543e+00  2.78180839e+00  2.78246102e+00\n -2.19442876e-01  2.64754244e+00 -3.54232107e-01  8.27031773e-01\n -5.56001454e-01 -3.98290157e-01 -9.02850257e-01 -7.89968701e-01\n -1.60530950e-01 -1.00069659e-01  2.39629575e-02 -5.81888249e-01\n -2.18374082e-01 -9.27827298e-01 -4.31592605e-01 -3.54432054e-02\n -8.51865015e-01 -5.12627755e-01 -7.77248130e-01 -4.04404843e-01\n -8.22756980e-01 -4.11506108e-01  8.05270665e-01  2.20088153e+00\n -5.84806174e-01 -8.03723978e-01 -3.78509739e-02 -1.33626114e-02\n -6.10760837e-01 -1.37104672e-02 -6.68882072e-01 -6.57621575e-01\n  2.29597360e+00 -6.41998761e-01  1.21234716e-01 -8.87744126e-01\n -4.57142547e-01 -8.88654972e-01 -1.23696091e-01 -1.54377699e-01\n -7.55434619e-01  1.92027425e+00 -3.57887181e-02 -1.28095725e-01\n  1.14258937e-01 -6.26201028e-01  9.58623466e-02 -3.74859705e-01\n -1.59371406e-01 -7.03408413e-01  3.45688919e-01 -1.27455435e-01\n -7.47169508e-01 -8.93158389e-01 -5.39959288e-01 -2.28424631e-01\n -3.18676407e-01 -4.94419863e-01 -4.33647393e-01 -6.18802219e-01\n -6.12754571e-01 -5.50668742e-02 -6.90876346e-01 -2.95525980e-01\n -9.04467069e-01  1.66575003e+00 -6.15986946e-01  2.16361101e+00\n  1.55485900e+00  2.06340897e+00 -6.41950996e-01 -1.29800311e-01\n -3.39174105e-01 -1.31171169e-01  2.39138369e-01  9.29446686e-01\n  1.04476257e+00 -5.97774036e-01  2.19380093e+00 -4.44211772e-01\n  1.14521524e+00 -8.61051706e-01  5.23523596e-01 -4.78102339e-01\n -6.63869892e-01 -8.61133480e-01 -5.49292843e-01 -4.52244705e-02\n  6.39509842e-02 -8.67232761e-01 -3.74069512e-01  5.51046227e-01\n -9.18273601e-01  7.03412058e-01 -9.03508459e-01 -8.16513704e-01\n  6.73759895e-02  1.70450829e+00 -1.96579646e-01 -8.50136747e-01\n  4.02815808e-02  1.20607006e+00 -5.25788734e-01 -8.05382113e-01\n -5.50600097e-01 -4.11046425e-01 -5.43636233e-02 -8.61988816e-01\n -6.21565590e-01 -3.85751088e-01 -4.29838496e-01 -2.39401178e-01\n  4.38603640e-03 -8.89734887e-01 -6.99078009e-01 -5.34587386e-01\n -5.58641901e-01 -3.43716738e-01 -5.47823911e-01  3.02583737e-03\n -6.74597672e-01  1.69420863e+00  2.39070539e+00  1.45131355e+00\n -6.18105319e-01 -1.83818214e-01 -8.36325770e-01 -9.48087510e-02\n -8.72972586e-01  1.04591637e+00 -5.93775817e-01 -7.00154365e-01\n -1.06067938e-01 -6.21533152e-01  2.56870319e+00 -8.29839508e-01\n -9.26694855e-01  1.91226895e+00 -5.05549953e-01 -6.55268572e-01\n  1.06866907e-01 -3.26078630e-01  1.38748768e+00  1.96557915e+00\n  1.08970260e-01 -7.82116377e-01  1.38657411e-01 -8.62066873e-01\n -7.16418514e-01 -4.19045152e-01  2.70463537e+00  1.64392691e+00\n  1.83494125e+00 -7.93214912e-01 -2.49235610e-01 -5.16789625e-01\n -5.53737597e-01 -6.95949676e-01 -8.37835620e-01  1.00050380e+00\n  7.21054391e-01  9.16939094e-02  1.91839294e-02 -1.75620467e-02\n  1.65641441e+00 -6.94921493e-01 -3.01347516e-01 -6.29947075e-01\n -6.21560738e-01 -8.00947170e-01 -6.89206091e-01 -7.20205932e-01\n -3.20960474e-01 -1.32223785e-01 -7.19071662e-01 -8.28725666e-01\n -7.99617125e-01  2.16965152e+00  4.41717791e-02 -2.32816342e-01\n -7.85138860e-01 -2.28766148e-02 -8.33068214e-01 -2.69280342e-01\n -8.00062477e-01  9.17814954e-01 -6.56482150e-01 -7.56111889e-01\n  5.87012801e-01  2.93007583e-01 -2.78127779e-01 -5.59082487e-01\n -3.65415561e-01 -7.90925598e-01  6.50021714e-03 -3.56310159e-02\n -2.00972683e-01  7.05635138e-01 -4.83707644e-01 -6.76335582e-01\n -6.66310904e-01  1.52830920e-01  2.43162323e-02 -6.19849737e-01\n -8.24806107e-01 -4.16126948e-01 -4.21845076e-01  2.65706930e+00\n -8.50126537e-01  1.40220413e+00 -8.88426487e-01 -8.74372976e-01\n -2.33439193e-01 -7.71195923e-02 -8.93955079e-01 -1.73438751e-01\n -6.61081116e-01  1.35962474e+00 -1.45967123e-01 -3.31570458e-01\n -6.86449744e-01 -5.17474636e-01  2.77621433e+00 -8.85830714e-01\n  6.85726190e-02  2.02675808e+00 -7.85560499e-01 -7.84160925e-01\n -8.85606642e-01 -8.06349772e-01 -6.77565323e-01 -6.81861363e-01\n  6.41292972e-02 -8.37996216e-01 -8.50903939e-01 -4.64324792e-01\n -7.60991974e-01 -1.95995880e-02 -7.70658881e-01 -7.93324757e-01\n -2.24958113e-02 -7.62561494e-01 -2.97910032e-01 -5.32965023e-01\n -4.04516873e-01  1.09475886e-01  1.01298179e+00  2.68871499e+00\n  2.68474187e-03 -5.19562593e-01  2.50085098e+00 -1.93803508e-01].\nReshape your data either using array.reshape(-1, 1) if your data has a single feature or array.reshape(1, -1) if it contains a single sample."
     ]
    }
   ],
   "source": [
    "y_pred = sc_Y.inverse_transform(model.predict(sc_X.transform(X_test)))"
   ]
  },
  {
   "cell_type": "code",
   "execution_count": null,
   "id": "26fdb1cd",
   "metadata": {},
   "outputs": [],
   "source": []
  },
  {
   "cell_type": "code",
   "execution_count": null,
   "id": "11e07794",
   "metadata": {},
   "outputs": [],
   "source": []
  }
 ],
 "metadata": {
  "kernelspec": {
   "display_name": "Python 3 (ipykernel)",
   "language": "python",
   "name": "python3"
  },
  "language_info": {
   "codemirror_mode": {
    "name": "ipython",
    "version": 3
   },
   "file_extension": ".py",
   "mimetype": "text/x-python",
   "name": "python",
   "nbconvert_exporter": "python",
   "pygments_lexer": "ipython3",
   "version": "3.9.12"
  }
 },
 "nbformat": 4,
 "nbformat_minor": 5
}

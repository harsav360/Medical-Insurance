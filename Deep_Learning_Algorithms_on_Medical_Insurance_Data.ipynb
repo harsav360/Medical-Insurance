{
  "nbformat": 4,
  "nbformat_minor": 0,
  "metadata": {
    "colab": {
      "provenance": [],
      "mount_file_id": "107tB4Y0cMP0QXo4Y6_jWCkuYiudoW4KP",
      "authorship_tag": "ABX9TyP+0Kp5lEuQYs5lVCCPVyGw",
      "include_colab_link": true
    },
    "kernelspec": {
      "name": "python3",
      "display_name": "Python 3"
    },
    "language_info": {
      "name": "python"
    }
  },
  "cells": [
    {
      "cell_type": "markdown",
      "metadata": {
        "id": "view-in-github",
        "colab_type": "text"
      },
      "source": [
        "<a href=\"https://colab.research.google.com/github/harsav360/Medical-Insurance/blob/main/Deep_Learning_Algorithms_on_Medical_Insurance_Data.ipynb\" target=\"_parent\"><img src=\"https://colab.research.google.com/assets/colab-badge.svg\" alt=\"Open In Colab\"/></a>"
      ]
    },
    {
      "cell_type": "markdown",
      "source": [
        "# Importing All the necessary liberaries"
      ],
      "metadata": {
        "id": "dDte1zLmPZpv"
      }
    },
    {
      "cell_type": "code",
      "source": [
        "import pandas as pd\n",
        "from sklearn.model_selection import train_test_split\n",
        "from sklearn.preprocessing import LabelEncoder, StandardScaler\n",
        "from sklearn.metrics import mean_squared_error\n",
        "import tensorflow as tf\n",
        "from tensorflow.keras.models import Sequential\n",
        "from tensorflow.keras.layers import Dense, Embedding, Flatten, LSTM, GRU, Input\n",
        "from tensorflow.keras.optimizers import Adam\n",
        "from sklearn.ensemble import RandomForestRegressor"
      ],
      "metadata": {
        "id": "N6n4XrboPnPC"
      },
      "execution_count": null,
      "outputs": []
    },
    {
      "cell_type": "markdown",
      "source": [
        "# Loading the Dataset"
      ],
      "metadata": {
        "id": "8ldi1XnZP5C_"
      }
    },
    {
      "cell_type": "code",
      "source": [
        "from google.colab import drive\n",
        "drive.mount('/content/drive')"
      ],
      "metadata": {
        "colab": {
          "base_uri": "https://localhost:8080/"
        },
        "id": "Ef4Rl9YfQH6X",
        "outputId": "dfe48338-a426-4011-b42f-2fc15dead718"
      },
      "execution_count": null,
      "outputs": [
        {
          "output_type": "stream",
          "name": "stdout",
          "text": [
            "Drive already mounted at /content/drive; to attempt to forcibly remount, call drive.mount(\"/content/drive\", force_remount=True).\n"
          ]
        }
      ]
    },
    {
      "cell_type": "code",
      "source": [
        "data = pd.read_csv('/content/drive/MyDrive/Datasets/insurance.csv')\n"
      ],
      "metadata": {
        "id": "XpFY_JeKQjcC"
      },
      "execution_count": null,
      "outputs": []
    },
    {
      "cell_type": "markdown",
      "source": [
        "# Converting non-numerical features to numerical using Label Encoding"
      ],
      "metadata": {
        "id": "Dd9uNL0sTAz0"
      }
    },
    {
      "cell_type": "code",
      "source": [
        "label_encoder = LabelEncoder()\n",
        "data['sex'] = label_encoder.fit_transform(data['sex'])\n",
        "data['smoker'] = label_encoder.fit_transform(data['smoker'])\n",
        "data['region'] = label_encoder.fit_transform(data['region'])"
      ],
      "metadata": {
        "id": "JhU_omztTDwJ"
      },
      "execution_count": null,
      "outputs": []
    },
    {
      "cell_type": "markdown",
      "source": [
        "# Split the data into features (X) and target (y)"
      ],
      "metadata": {
        "id": "qIHM04zJTMv2"
      }
    },
    {
      "cell_type": "code",
      "source": [
        "X = data.drop('charges', axis=1)\n",
        "y = data['charges']"
      ],
      "metadata": {
        "id": "73WZBz6eTOR3"
      },
      "execution_count": null,
      "outputs": []
    },
    {
      "cell_type": "markdown",
      "source": [
        "# Split the data into train and test sets"
      ],
      "metadata": {
        "id": "cYx7iFJITXGV"
      }
    },
    {
      "cell_type": "code",
      "source": [
        "X_train, X_test, y_train, y_test = train_test_split(X, y, test_size=0.2, random_state=42)"
      ],
      "metadata": {
        "id": "tO6f62xHTX3w"
      },
      "execution_count": null,
      "outputs": []
    },
    {
      "cell_type": "markdown",
      "source": [
        "# Standardize numerical features"
      ],
      "metadata": {
        "id": "WwNgwIhCThUX"
      }
    },
    {
      "cell_type": "code",
      "source": [
        "scaler = StandardScaler()\n",
        "X_train_scaled = scaler.fit_transform(X_train)\n",
        "X_test_scaled = scaler.transform(X_test)"
      ],
      "metadata": {
        "id": "nYAg-YNaTiN_"
      },
      "execution_count": null,
      "outputs": []
    },
    {
      "cell_type": "markdown",
      "source": [
        "# Feedforward Neural Network (FNN)"
      ],
      "metadata": {
        "id": "SH9Jh_GhTq3I"
      }
    },
    {
      "cell_type": "code",
      "source": [
        "fnn_model = Sequential([\n",
        "    Dense(64, activation='relu', input_shape=(X_train_scaled.shape[1],)),\n",
        "    Dense(32, activation='relu'),\n",
        "    Dense(1)\n",
        "])\n",
        "fnn_model.compile(optimizer=Adam(learning_rate=0.001), loss='mean_squared_error')\n",
        "fnn_model.fit(X_train_scaled, y_train, epochs=50, batch_size=32, validation_data=(X_test_scaled, y_test))"
      ],
      "metadata": {
        "colab": {
          "base_uri": "https://localhost:8080/"
        },
        "id": "3mQzFGpdTrZ1",
        "outputId": "b7aa89bd-2516-4ea6-acca-d89202493253"
      },
      "execution_count": null,
      "outputs": [
        {
          "output_type": "stream",
          "name": "stdout",
          "text": [
            "Epoch 1/50\n",
            "34/34 [==============================] - 1s 5ms/step - loss: 322434624.0000 - val_loss: 323381088.0000\n",
            "Epoch 2/50\n",
            "34/34 [==============================] - 0s 2ms/step - loss: 322362688.0000 - val_loss: 323268384.0000\n",
            "Epoch 3/50\n",
            "34/34 [==============================] - 0s 2ms/step - loss: 322188448.0000 - val_loss: 323015552.0000\n",
            "Epoch 4/50\n",
            "34/34 [==============================] - 0s 2ms/step - loss: 321829248.0000 - val_loss: 322526592.0000\n",
            "Epoch 5/50\n",
            "34/34 [==============================] - 0s 2ms/step - loss: 321180192.0000 - val_loss: 321670944.0000\n",
            "Epoch 6/50\n",
            "34/34 [==============================] - 0s 2ms/step - loss: 320100192.0000 - val_loss: 320317408.0000\n",
            "Epoch 7/50\n",
            "34/34 [==============================] - 0s 2ms/step - loss: 318491392.0000 - val_loss: 318285792.0000\n",
            "Epoch 8/50\n",
            "34/34 [==============================] - 0s 2ms/step - loss: 316151456.0000 - val_loss: 315513088.0000\n",
            "Epoch 9/50\n",
            "34/34 [==============================] - 0s 2ms/step - loss: 312975104.0000 - val_loss: 311808288.0000\n",
            "Epoch 10/50\n",
            "34/34 [==============================] - 0s 2ms/step - loss: 308874496.0000 - val_loss: 307144896.0000\n",
            "Epoch 11/50\n",
            "34/34 [==============================] - 0s 2ms/step - loss: 303900704.0000 - val_loss: 301528480.0000\n",
            "Epoch 12/50\n",
            "34/34 [==============================] - 0s 2ms/step - loss: 297885088.0000 - val_loss: 294784192.0000\n",
            "Epoch 13/50\n",
            "34/34 [==============================] - 0s 2ms/step - loss: 290752576.0000 - val_loss: 287061376.0000\n",
            "Epoch 14/50\n",
            "34/34 [==============================] - 0s 2ms/step - loss: 282618688.0000 - val_loss: 278097472.0000\n",
            "Epoch 15/50\n",
            "34/34 [==============================] - 0s 2ms/step - loss: 273557280.0000 - val_loss: 268017152.0000\n",
            "Epoch 16/50\n",
            "34/34 [==============================] - 0s 2ms/step - loss: 263217232.0000 - val_loss: 256859360.0000\n",
            "Epoch 17/50\n",
            "34/34 [==============================] - 0s 2ms/step - loss: 251892448.0000 - val_loss: 245245840.0000\n",
            "Epoch 18/50\n",
            "34/34 [==============================] - 0s 2ms/step - loss: 239835616.0000 - val_loss: 232322976.0000\n",
            "Epoch 19/50\n",
            "34/34 [==============================] - 0s 2ms/step - loss: 227118096.0000 - val_loss: 218779280.0000\n",
            "Epoch 20/50\n",
            "34/34 [==============================] - 0s 2ms/step - loss: 213772112.0000 - val_loss: 205071248.0000\n",
            "Epoch 21/50\n",
            "34/34 [==============================] - 0s 2ms/step - loss: 200199568.0000 - val_loss: 190681152.0000\n",
            "Epoch 22/50\n",
            "34/34 [==============================] - 0s 2ms/step - loss: 186230272.0000 - val_loss: 176397776.0000\n",
            "Epoch 23/50\n",
            "34/34 [==============================] - 0s 2ms/step - loss: 172164336.0000 - val_loss: 162228816.0000\n",
            "Epoch 24/50\n",
            "34/34 [==============================] - 0s 2ms/step - loss: 158478448.0000 - val_loss: 148422656.0000\n",
            "Epoch 25/50\n",
            "34/34 [==============================] - 0s 2ms/step - loss: 145254864.0000 - val_loss: 134766048.0000\n",
            "Epoch 26/50\n",
            "34/34 [==============================] - 0s 2ms/step - loss: 132400712.0000 - val_loss: 122380032.0000\n",
            "Epoch 27/50\n",
            "34/34 [==============================] - 0s 2ms/step - loss: 120411024.0000 - val_loss: 110429488.0000\n",
            "Epoch 28/50\n",
            "34/34 [==============================] - 0s 2ms/step - loss: 109301312.0000 - val_loss: 99134032.0000\n",
            "Epoch 29/50\n",
            "34/34 [==============================] - 0s 2ms/step - loss: 98827584.0000 - val_loss: 89551088.0000\n",
            "Epoch 30/50\n",
            "34/34 [==============================] - 0s 2ms/step - loss: 89680720.0000 - val_loss: 80483408.0000\n",
            "Epoch 31/50\n",
            "34/34 [==============================] - 0s 2ms/step - loss: 81399288.0000 - val_loss: 72891304.0000\n",
            "Epoch 32/50\n",
            "34/34 [==============================] - 0s 2ms/step - loss: 74240232.0000 - val_loss: 65980836.0000\n",
            "Epoch 33/50\n",
            "34/34 [==============================] - 0s 2ms/step - loss: 67803616.0000 - val_loss: 60040444.0000\n",
            "Epoch 34/50\n",
            "34/34 [==============================] - 0s 2ms/step - loss: 62206888.0000 - val_loss: 55022136.0000\n",
            "Epoch 35/50\n",
            "34/34 [==============================] - 0s 2ms/step - loss: 57518940.0000 - val_loss: 50780848.0000\n",
            "Epoch 36/50\n",
            "34/34 [==============================] - 0s 2ms/step - loss: 53422700.0000 - val_loss: 47195460.0000\n",
            "Epoch 37/50\n",
            "34/34 [==============================] - 0s 2ms/step - loss: 50127784.0000 - val_loss: 44115100.0000\n",
            "Epoch 38/50\n",
            "34/34 [==============================] - 0s 2ms/step - loss: 47287108.0000 - val_loss: 41713784.0000\n",
            "Epoch 39/50\n",
            "34/34 [==============================] - 0s 2ms/step - loss: 44991912.0000 - val_loss: 39745040.0000\n",
            "Epoch 40/50\n",
            "34/34 [==============================] - 0s 2ms/step - loss: 43092408.0000 - val_loss: 38117604.0000\n",
            "Epoch 41/50\n",
            "34/34 [==============================] - 0s 2ms/step - loss: 41503136.0000 - val_loss: 36914276.0000\n",
            "Epoch 42/50\n",
            "34/34 [==============================] - 0s 2ms/step - loss: 40260624.0000 - val_loss: 35733380.0000\n",
            "Epoch 43/50\n",
            "34/34 [==============================] - 0s 2ms/step - loss: 39166108.0000 - val_loss: 34914612.0000\n",
            "Epoch 44/50\n",
            "34/34 [==============================] - 0s 2ms/step - loss: 38329188.0000 - val_loss: 34165276.0000\n",
            "Epoch 45/50\n",
            "34/34 [==============================] - 0s 2ms/step - loss: 37621548.0000 - val_loss: 33610916.0000\n",
            "Epoch 46/50\n",
            "34/34 [==============================] - 0s 2ms/step - loss: 37066824.0000 - val_loss: 33202084.0000\n",
            "Epoch 47/50\n",
            "34/34 [==============================] - 0s 2ms/step - loss: 36621784.0000 - val_loss: 32853130.0000\n",
            "Epoch 48/50\n",
            "34/34 [==============================] - 0s 2ms/step - loss: 36262740.0000 - val_loss: 32552468.0000\n",
            "Epoch 49/50\n",
            "34/34 [==============================] - 0s 2ms/step - loss: 35971092.0000 - val_loss: 32316256.0000\n",
            "Epoch 50/50\n",
            "34/34 [==============================] - 0s 2ms/step - loss: 35729408.0000 - val_loss: 32151392.0000\n"
          ]
        },
        {
          "output_type": "execute_result",
          "data": {
            "text/plain": [
              "<keras.callbacks.History at 0x78b6b0686020>"
            ]
          },
          "metadata": {},
          "execution_count": 11
        }
      ]
    },
    {
      "cell_type": "markdown",
      "source": [
        "# Evaluating the Model"
      ],
      "metadata": {
        "id": "kTYd8mvRUIT9"
      }
    },
    {
      "cell_type": "code",
      "source": [
        "fnn_preds = fnn_model.predict(X_test_scaled)\n",
        "fnn_mse = mean_squared_error(y_test, fnn_preds)\n",
        "print(f\"FNN Mean Squared Error: {fnn_mse}\")\n"
      ],
      "metadata": {
        "colab": {
          "base_uri": "https://localhost:8080/"
        },
        "id": "BEVzoRXOUL59",
        "outputId": "81fd9626-ca2f-4636-d848-d2bfae5093fc"
      },
      "execution_count": null,
      "outputs": [
        {
          "output_type": "stream",
          "name": "stdout",
          "text": [
            "9/9 [==============================] - 0s 1ms/step\n",
            "FNN Mean Squared Error: 32151391.47555213\n"
          ]
        }
      ]
    },
    {
      "cell_type": "markdown",
      "source": [
        "# Recurrent Neural Network (RNN) - LSTM"
      ],
      "metadata": {
        "id": "WYNnoQvqUY-c"
      }
    },
    {
      "cell_type": "code",
      "source": [
        "lstm_model = Sequential([\n",
        "    LSTM(64, activation='relu', input_shape=(X_train_scaled.shape[1], 1)),\n",
        "    Dense(1)\n",
        "])\n",
        "lstm_model.compile(optimizer=Adam(learning_rate=0.001), loss='mean_squared_error')\n",
        "lstm_model.fit(X_train_scaled.reshape((-1, X_train_scaled.shape[1], 1)), y_train, epochs=50, batch_size=32, validation_data=(X_test_scaled.reshape((-1, X_train_scaled.shape[1], 1)), y_test))"
      ],
      "metadata": {
        "colab": {
          "base_uri": "https://localhost:8080/"
        },
        "id": "L3d3CiHvUcCh",
        "outputId": "755fb9bc-d33c-453d-f11d-1529ae703dcb"
      },
      "execution_count": null,
      "outputs": [
        {
          "output_type": "stream",
          "name": "stdout",
          "text": [
            "Epoch 1/50\n",
            "34/34 [==============================] - 2s 8ms/step - loss: 322440800.0000 - val_loss: 323391744.0000\n",
            "Epoch 2/50\n",
            "34/34 [==============================] - 0s 3ms/step - loss: 321160000.0000 - val_loss: 315199616.0000\n",
            "Epoch 3/50\n",
            "34/34 [==============================] - 0s 4ms/step - loss: 235016320.0000 - val_loss: 173599424.0000\n",
            "Epoch 4/50\n",
            "34/34 [==============================] - 0s 4ms/step - loss: 142389456.0000 - val_loss: 147618080.0000\n",
            "Epoch 5/50\n",
            "34/34 [==============================] - 0s 4ms/step - loss: 137654048.0000 - val_loss: 143688384.0000\n",
            "Epoch 6/50\n",
            "34/34 [==============================] - 0s 4ms/step - loss: 135013488.0000 - val_loss: 140836528.0000\n",
            "Epoch 7/50\n",
            "34/34 [==============================] - 0s 4ms/step - loss: 134299472.0000 - val_loss: 140228112.0000\n",
            "Epoch 8/50\n",
            "34/34 [==============================] - 0s 4ms/step - loss: 134790016.0000 - val_loss: 138475824.0000\n",
            "Epoch 9/50\n",
            "34/34 [==============================] - 0s 4ms/step - loss: 132753720.0000 - val_loss: 137652336.0000\n",
            "Epoch 10/50\n",
            "34/34 [==============================] - 0s 4ms/step - loss: 132885936.0000 - val_loss: 137203648.0000\n",
            "Epoch 11/50\n",
            "34/34 [==============================] - 0s 4ms/step - loss: 132376440.0000 - val_loss: 136705264.0000\n",
            "Epoch 12/50\n",
            "34/34 [==============================] - 0s 4ms/step - loss: 132394448.0000 - val_loss: 137174912.0000\n",
            "Epoch 13/50\n",
            "34/34 [==============================] - 0s 4ms/step - loss: 131563536.0000 - val_loss: 136602448.0000\n",
            "Epoch 14/50\n",
            "34/34 [==============================] - 0s 4ms/step - loss: 131775304.0000 - val_loss: 135745840.0000\n",
            "Epoch 15/50\n",
            "34/34 [==============================] - 0s 3ms/step - loss: 132987200.0000 - val_loss: 137002832.0000\n",
            "Epoch 16/50\n",
            "34/34 [==============================] - 0s 4ms/step - loss: 132072784.0000 - val_loss: 136173216.0000\n",
            "Epoch 17/50\n",
            "34/34 [==============================] - 0s 4ms/step - loss: 131985616.0000 - val_loss: 136132864.0000\n",
            "Epoch 18/50\n",
            "34/34 [==============================] - 0s 4ms/step - loss: 131430320.0000 - val_loss: 136285872.0000\n",
            "Epoch 19/50\n",
            "34/34 [==============================] - 0s 4ms/step - loss: 132107056.0000 - val_loss: 135747776.0000\n",
            "Epoch 20/50\n",
            "34/34 [==============================] - 0s 3ms/step - loss: 131955632.0000 - val_loss: 135386096.0000\n",
            "Epoch 21/50\n",
            "34/34 [==============================] - 0s 4ms/step - loss: 131790136.0000 - val_loss: 136568320.0000\n",
            "Epoch 22/50\n",
            "34/34 [==============================] - 0s 4ms/step - loss: 131830016.0000 - val_loss: 135990832.0000\n",
            "Epoch 23/50\n",
            "34/34 [==============================] - 0s 4ms/step - loss: 131303920.0000 - val_loss: 134629648.0000\n",
            "Epoch 24/50\n",
            "34/34 [==============================] - 0s 3ms/step - loss: 131403248.0000 - val_loss: 135097696.0000\n",
            "Epoch 25/50\n",
            "34/34 [==============================] - 0s 4ms/step - loss: 131197088.0000 - val_loss: 135673984.0000\n",
            "Epoch 26/50\n",
            "34/34 [==============================] - 0s 4ms/step - loss: 131936600.0000 - val_loss: 137346848.0000\n",
            "Epoch 27/50\n",
            "34/34 [==============================] - 0s 4ms/step - loss: 133242176.0000 - val_loss: 136729712.0000\n",
            "Epoch 28/50\n",
            "34/34 [==============================] - 0s 4ms/step - loss: 132019024.0000 - val_loss: 135589936.0000\n",
            "Epoch 29/50\n",
            "34/34 [==============================] - 0s 4ms/step - loss: 131860848.0000 - val_loss: 134725696.0000\n",
            "Epoch 30/50\n",
            "34/34 [==============================] - 0s 4ms/step - loss: 131508120.0000 - val_loss: 134996560.0000\n",
            "Epoch 31/50\n",
            "34/34 [==============================] - 0s 4ms/step - loss: 131348464.0000 - val_loss: 135094800.0000\n",
            "Epoch 32/50\n",
            "34/34 [==============================] - 0s 3ms/step - loss: 131779480.0000 - val_loss: 134870400.0000\n",
            "Epoch 33/50\n",
            "34/34 [==============================] - 0s 3ms/step - loss: 131349888.0000 - val_loss: 135018960.0000\n",
            "Epoch 34/50\n",
            "34/34 [==============================] - 0s 4ms/step - loss: 131243464.0000 - val_loss: 135093664.0000\n",
            "Epoch 35/50\n",
            "34/34 [==============================] - 0s 4ms/step - loss: 131269176.0000 - val_loss: 134731472.0000\n",
            "Epoch 36/50\n",
            "34/34 [==============================] - 0s 4ms/step - loss: 131121456.0000 - val_loss: 135370352.0000\n",
            "Epoch 37/50\n",
            "34/34 [==============================] - 0s 4ms/step - loss: 131765672.0000 - val_loss: 134640224.0000\n",
            "Epoch 38/50\n",
            "34/34 [==============================] - 0s 4ms/step - loss: 131718448.0000 - val_loss: 135394752.0000\n",
            "Epoch 39/50\n",
            "34/34 [==============================] - 0s 4ms/step - loss: 131058512.0000 - val_loss: 134831184.0000\n",
            "Epoch 40/50\n",
            "34/34 [==============================] - 0s 4ms/step - loss: 131195632.0000 - val_loss: 134368976.0000\n",
            "Epoch 41/50\n",
            "34/34 [==============================] - 0s 3ms/step - loss: 130870184.0000 - val_loss: 134678448.0000\n",
            "Epoch 42/50\n",
            "34/34 [==============================] - 0s 4ms/step - loss: 131175360.0000 - val_loss: 134496048.0000\n",
            "Epoch 43/50\n",
            "34/34 [==============================] - 0s 4ms/step - loss: 132591672.0000 - val_loss: 134813872.0000\n",
            "Epoch 44/50\n",
            "34/34 [==============================] - 0s 4ms/step - loss: 130937592.0000 - val_loss: 133794736.0000\n",
            "Epoch 45/50\n",
            "34/34 [==============================] - 0s 4ms/step - loss: 130252680.0000 - val_loss: 134061824.0000\n",
            "Epoch 46/50\n",
            "34/34 [==============================] - 0s 4ms/step - loss: 130840344.0000 - val_loss: 135305008.0000\n",
            "Epoch 47/50\n",
            "34/34 [==============================] - 0s 4ms/step - loss: 130652200.0000 - val_loss: 134773376.0000\n",
            "Epoch 48/50\n",
            "34/34 [==============================] - 0s 4ms/step - loss: 130938280.0000 - val_loss: 134035640.0000\n",
            "Epoch 49/50\n",
            "34/34 [==============================] - 0s 4ms/step - loss: 130426792.0000 - val_loss: 133934984.0000\n",
            "Epoch 50/50\n",
            "34/34 [==============================] - 0s 4ms/step - loss: 130331384.0000 - val_loss: 133648784.0000\n"
          ]
        },
        {
          "output_type": "execute_result",
          "data": {
            "text/plain": [
              "<keras.callbacks.History at 0x78b6b05b3220>"
            ]
          },
          "metadata": {},
          "execution_count": 13
        }
      ]
    },
    {
      "cell_type": "code",
      "source": [
        "lstm_preds = lstm_model.predict(X_test_scaled.reshape((-1, X_train_scaled.shape[1], 1)))\n",
        "lstm_mse = mean_squared_error(y_test, lstm_preds)\n",
        "print(f\"LSTM Mean Squared Error: {lstm_mse}\")"
      ],
      "metadata": {
        "colab": {
          "base_uri": "https://localhost:8080/"
        },
        "id": "qi2pvneJVAO1",
        "outputId": "aa9d7a32-3d4d-43fe-e5a3-b27d8560291f"
      },
      "execution_count": null,
      "outputs": [
        {
          "output_type": "stream",
          "name": "stdout",
          "text": [
            "9/9 [==============================] - 0s 2ms/step\n",
            "LSTM Mean Squared Error: 133648777.19145425\n"
          ]
        }
      ]
    },
    {
      "cell_type": "markdown",
      "source": [
        "# Recurrent Neural Network (RNN) - GRU"
      ],
      "metadata": {
        "id": "yPj1sBR9UtLl"
      }
    },
    {
      "cell_type": "code",
      "source": [
        "gru_model = Sequential([\n",
        "    GRU(64, activation='relu', input_shape=(X_train_scaled.shape[1], 1)),\n",
        "    Dense(1)\n",
        "])\n",
        "gru_model.compile(optimizer=Adam(learning_rate=0.001), loss='mean_squared_error')\n",
        "gru_model.fit(X_train_scaled.reshape((-1, X_train_scaled.shape[1], 1)), y_train, epochs=50, batch_size=32, validation_data=(X_test_scaled.reshape((-1, X_train_scaled.shape[1], 1)), y_test))"
      ],
      "metadata": {
        "colab": {
          "base_uri": "https://localhost:8080/"
        },
        "id": "kxDiL5_qUtro",
        "outputId": "7154ed66-4923-4a4b-8b01-5e723bd764b5"
      },
      "execution_count": null,
      "outputs": [
        {
          "output_type": "stream",
          "name": "stdout",
          "text": [
            "Epoch 1/50\n",
            "34/34 [==============================] - 2s 9ms/step - loss: 322441504.0000 - val_loss: 323399264.0000\n",
            "Epoch 2/50\n",
            "34/34 [==============================] - 0s 4ms/step - loss: 322025984.0000 - val_loss: 320122144.0000\n",
            "Epoch 3/50\n",
            "34/34 [==============================] - 0s 4ms/step - loss: 246300640.0000 - val_loss: 156645584.0000\n",
            "Epoch 4/50\n",
            "34/34 [==============================] - 0s 4ms/step - loss: 145114448.0000 - val_loss: 138531248.0000\n",
            "Epoch 5/50\n",
            "34/34 [==============================] - 0s 4ms/step - loss: 134909936.0000 - val_loss: 137744320.0000\n",
            "Epoch 6/50\n",
            "34/34 [==============================] - 0s 4ms/step - loss: 132512136.0000 - val_loss: 136899136.0000\n",
            "Epoch 7/50\n",
            "34/34 [==============================] - 0s 4ms/step - loss: 132490256.0000 - val_loss: 137330736.0000\n",
            "Epoch 8/50\n",
            "34/34 [==============================] - 0s 4ms/step - loss: 133542112.0000 - val_loss: 136550368.0000\n",
            "Epoch 9/50\n",
            "34/34 [==============================] - 0s 4ms/step - loss: 131840472.0000 - val_loss: 136315088.0000\n",
            "Epoch 10/50\n",
            "34/34 [==============================] - 0s 4ms/step - loss: 132477912.0000 - val_loss: 135693408.0000\n",
            "Epoch 11/50\n",
            "34/34 [==============================] - 0s 4ms/step - loss: 132476688.0000 - val_loss: 136111648.0000\n",
            "Epoch 12/50\n",
            "34/34 [==============================] - 0s 4ms/step - loss: 131913880.0000 - val_loss: 137718544.0000\n",
            "Epoch 13/50\n",
            "34/34 [==============================] - 0s 4ms/step - loss: 132151904.0000 - val_loss: 135907952.0000\n",
            "Epoch 14/50\n",
            "34/34 [==============================] - 0s 4ms/step - loss: 132183904.0000 - val_loss: 136249920.0000\n",
            "Epoch 15/50\n",
            "34/34 [==============================] - 0s 4ms/step - loss: 131948480.0000 - val_loss: 135750464.0000\n",
            "Epoch 16/50\n",
            "34/34 [==============================] - 0s 4ms/step - loss: 131762640.0000 - val_loss: 135826720.0000\n",
            "Epoch 17/50\n",
            "34/34 [==============================] - 0s 3ms/step - loss: 131742624.0000 - val_loss: 135481856.0000\n",
            "Epoch 18/50\n",
            "34/34 [==============================] - 0s 4ms/step - loss: 132154352.0000 - val_loss: 137517392.0000\n",
            "Epoch 19/50\n",
            "34/34 [==============================] - 0s 4ms/step - loss: 131941712.0000 - val_loss: 135970960.0000\n",
            "Epoch 20/50\n",
            "34/34 [==============================] - 0s 4ms/step - loss: 131885704.0000 - val_loss: 135594272.0000\n",
            "Epoch 21/50\n",
            "34/34 [==============================] - 0s 4ms/step - loss: 131346120.0000 - val_loss: 135160624.0000\n",
            "Epoch 22/50\n",
            "34/34 [==============================] - 0s 4ms/step - loss: 131986776.0000 - val_loss: 136550640.0000\n",
            "Epoch 23/50\n",
            "34/34 [==============================] - 0s 4ms/step - loss: 133172640.0000 - val_loss: 136514960.0000\n",
            "Epoch 24/50\n",
            "34/34 [==============================] - 0s 4ms/step - loss: 131956888.0000 - val_loss: 135137248.0000\n",
            "Epoch 25/50\n",
            "34/34 [==============================] - 0s 3ms/step - loss: 131143768.0000 - val_loss: 135574720.0000\n",
            "Epoch 26/50\n",
            "34/34 [==============================] - 0s 3ms/step - loss: 131324144.0000 - val_loss: 134935456.0000\n",
            "Epoch 27/50\n",
            "34/34 [==============================] - 0s 4ms/step - loss: 131573704.0000 - val_loss: 135281088.0000\n",
            "Epoch 28/50\n",
            "34/34 [==============================] - 0s 4ms/step - loss: 131035512.0000 - val_loss: 135804528.0000\n",
            "Epoch 29/50\n",
            "34/34 [==============================] - 0s 4ms/step - loss: 130071240.0000 - val_loss: 136718864.0000\n",
            "Epoch 30/50\n",
            "34/34 [==============================] - 0s 4ms/step - loss: 130842560.0000 - val_loss: 134008264.0000\n",
            "Epoch 31/50\n",
            "34/34 [==============================] - 0s 4ms/step - loss: 131128376.0000 - val_loss: 134486528.0000\n",
            "Epoch 32/50\n",
            "34/34 [==============================] - 0s 4ms/step - loss: 131069232.0000 - val_loss: 134026408.0000\n",
            "Epoch 33/50\n",
            "34/34 [==============================] - 0s 4ms/step - loss: 131520496.0000 - val_loss: 135178480.0000\n",
            "Epoch 34/50\n",
            "34/34 [==============================] - 0s 4ms/step - loss: 131133344.0000 - val_loss: 134266544.0000\n",
            "Epoch 35/50\n",
            "34/34 [==============================] - 0s 4ms/step - loss: 130386568.0000 - val_loss: 133993424.0000\n",
            "Epoch 36/50\n",
            "34/34 [==============================] - 0s 4ms/step - loss: 130775344.0000 - val_loss: 133789744.0000\n",
            "Epoch 37/50\n",
            "34/34 [==============================] - 0s 4ms/step - loss: 131026280.0000 - val_loss: 133369672.0000\n",
            "Epoch 38/50\n",
            "34/34 [==============================] - 0s 4ms/step - loss: 130106848.0000 - val_loss: 133488408.0000\n",
            "Epoch 39/50\n",
            "34/34 [==============================] - 0s 4ms/step - loss: 129839432.0000 - val_loss: 133657184.0000\n",
            "Epoch 40/50\n",
            "34/34 [==============================] - 0s 4ms/step - loss: 130609864.0000 - val_loss: 134150584.0000\n",
            "Epoch 41/50\n",
            "34/34 [==============================] - 0s 4ms/step - loss: 130756664.0000 - val_loss: 133990552.0000\n",
            "Epoch 42/50\n",
            "34/34 [==============================] - 0s 4ms/step - loss: 131196000.0000 - val_loss: 135816960.0000\n",
            "Epoch 43/50\n",
            "34/34 [==============================] - 0s 4ms/step - loss: 131766328.0000 - val_loss: 136744992.0000\n",
            "Epoch 44/50\n",
            "34/34 [==============================] - 0s 4ms/step - loss: 130367608.0000 - val_loss: 134558592.0000\n",
            "Epoch 45/50\n",
            "34/34 [==============================] - 0s 4ms/step - loss: 130521608.0000 - val_loss: 135019344.0000\n",
            "Epoch 46/50\n",
            "34/34 [==============================] - 0s 4ms/step - loss: 130578856.0000 - val_loss: 133629216.0000\n",
            "Epoch 47/50\n",
            "34/34 [==============================] - 0s 4ms/step - loss: 130128880.0000 - val_loss: 134086216.0000\n",
            "Epoch 48/50\n",
            "34/34 [==============================] - 0s 4ms/step - loss: 131436136.0000 - val_loss: 133532400.0000\n",
            "Epoch 49/50\n",
            "34/34 [==============================] - 0s 4ms/step - loss: 130079712.0000 - val_loss: 132744480.0000\n",
            "Epoch 50/50\n",
            "34/34 [==============================] - 0s 5ms/step - loss: 129301408.0000 - val_loss: 132290880.0000\n"
          ]
        },
        {
          "output_type": "execute_result",
          "data": {
            "text/plain": [
              "<keras.callbacks.History at 0x78b6a8dcefb0>"
            ]
          },
          "metadata": {},
          "execution_count": 14
        }
      ]
    },
    {
      "cell_type": "code",
      "source": [
        "gru_preds = gru_model.predict(X_test_scaled.reshape((-1, X_train_scaled.shape[1], 1)))\n",
        "gru_mse = mean_squared_error(y_test, gru_preds)\n",
        "print(f\"GRU Mean Squared Error: {gru_mse}\")"
      ],
      "metadata": {
        "colab": {
          "base_uri": "https://localhost:8080/"
        },
        "id": "UYzWSFuoUzcj",
        "outputId": "d90c640c-d914-48e2-f434-f30b876ae9bc"
      },
      "execution_count": null,
      "outputs": [
        {
          "output_type": "stream",
          "name": "stdout",
          "text": [
            "9/9 [==============================] - 0s 2ms/step\n",
            "GRU Mean Squared Error: 132290889.05253476\n"
          ]
        }
      ]
    },
    {
      "cell_type": "code",
      "source": [],
      "metadata": {
        "id": "KoHEH9hNVIfR"
      },
      "execution_count": null,
      "outputs": []
    }
  ]
}
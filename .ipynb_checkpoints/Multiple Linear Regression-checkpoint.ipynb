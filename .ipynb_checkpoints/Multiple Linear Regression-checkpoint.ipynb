{
 "cells": [
  {
   "cell_type": "markdown",
   "id": "7c750b15",
   "metadata": {},
   "source": [
    "# Importing the Libraries"
   ]
  },
  {
   "cell_type": "code",
   "execution_count": 18,
   "id": "8a7831cc",
   "metadata": {},
   "outputs": [],
   "source": [
    "import numpy as np\n",
    "import pandas as pd\n",
    "import matplotlib.pyplot as plt"
   ]
  },
  {
   "cell_type": "markdown",
   "id": "24b5362e",
   "metadata": {},
   "source": [
    "# Importing the Datasets"
   ]
  },
  {
   "cell_type": "code",
   "execution_count": 19,
   "id": "87a66158",
   "metadata": {},
   "outputs": [],
   "source": [
    "data = pd.read_csv('insurance.csv')"
   ]
  },
  {
   "cell_type": "markdown",
   "id": "ff61039a",
   "metadata": {},
   "source": [
    "# Randomly Splitting the dataset into train and test (80/20)"
   ]
  },
  {
   "cell_type": "code",
   "execution_count": 20,
   "id": "8ddf7824",
   "metadata": {},
   "outputs": [],
   "source": [
    "from sklearn.model_selection import train_test_split\n",
    "\n",
    "# Performing one-hot encoding for categorical variables\n",
    "data_encoded = pd.get_dummies(data, columns=['sex', 'smoker', 'region'], drop_first=True)\n",
    "\n",
    "# Spliting the dataset into features (X) and target (y)\n",
    "X = data_encoded.drop('charges', axis=1)\n",
    "y = data_encoded['charges']\n",
    "\n",
    "# Spliting the data into training and testing sets\n",
    "X_train, X_test, y_train, y_test = train_test_split(X, y, test_size=0.2, random_state=42)"
   ]
  },
  {
   "cell_type": "markdown",
   "id": "5a0e6298",
   "metadata": {},
   "source": [
    "# Creating and Training the object of Regression class"
   ]
  },
  {
   "cell_type": "code",
   "execution_count": 21,
   "id": "040c8246",
   "metadata": {},
   "outputs": [
    {
     "data": {
      "text/plain": [
       "LinearRegression()"
      ]
     },
     "execution_count": 21,
     "metadata": {},
     "output_type": "execute_result"
    }
   ],
   "source": [
    "from sklearn.linear_model import LinearRegression\n",
    "model = LinearRegression()\n",
    "model.fit(X_train,Y_train)"
   ]
  },
  {
   "cell_type": "markdown",
   "id": "57208214",
   "metadata": {},
   "source": [
    "# Predicting the model on test data"
   ]
  },
  {
   "cell_type": "code",
   "execution_count": 22,
   "id": "12babb3b",
   "metadata": {
    "collapsed": true
   },
   "outputs": [
    {
     "name": "stdout",
     "output_type": "stream",
     "text": [
      "[ 8969.55027444  7068.74744287 36858.41091155  9454.67850053\n",
      " 26973.17345656 10864.11316424   170.28084137 16903.45028662\n",
      "  1092.43093614 11218.34318352 28101.68455267  9377.73460205\n",
      "  5263.0595179  38416.04221107 40255.82339284 37098.25353123\n",
      " 15240.39392306 35912.88264434  9112.52398703 31461.92108909\n",
      "  3847.68845883 10130.12001517  2370.54189389  7140.21550828\n",
      " 11301.76782638 12961.65366224 14509.47251876  6159.8976107\n",
      "  9963.85857263  2177.85718217  9115.93673494 13073.68932159\n",
      "  4561.82376202  3408.20756033  4459.81359745 13032.06505076\n",
      "  1979.99357292  8813.28303302 33271.29124448 32585.51583927\n",
      "  3908.76090964  4326.10774721 14142.81326533 11423.45494846\n",
      "  8774.13955311 12097.28051001  5281.57353499  3150.5596042\n",
      " 35494.46461214  9150.1124786  15836.84575621  2343.57470069\n",
      " 12364.78414194  1482.29488266 13389.06105161 12573.57395972\n",
      "  4341.83680558 32165.33688042 13321.3360032  12896.82071102\n",
      " 14167.99421483 10506.17623512 16360.78543548  7763.89824584\n",
      " 11839.25019431  4061.19750503 26652.40230125 10930.14138671\n",
      "  2137.41385988  6209.01123411 10729.82391284 11628.3104129\n",
      " 10981.04528946  9166.50818596 11954.27732874  6747.85121734\n",
      "  7248.5304713  10735.16710748  6580.84819774  8762.00329355\n",
      "  3767.13383454 36632.4975496   6378.11979721 30842.09248656\n",
      " 34846.52451051 35278.07387112  7019.444352   12861.38414264\n",
      "  9942.30149778 14473.5260648  17693.37304474 35258.24845137\n",
      " 33029.58968269  6185.91730447 31999.98962535  9481.33158273\n",
      " 29444.04271523  3674.48498404 28308.26432106  5823.36495229\n",
      "  5407.76752001  1883.4947576  11499.675042   15075.90690632\n",
      " 11699.63163008  4308.82427855  9895.1840044  31708.40056201\n",
      "   -86.87094667 32819.71429004  3280.69178415 10183.88853878\n",
      " 14318.76389179 31642.35684542 11461.57806791  3929.23701831\n",
      " 13107.89313088 31810.99450607  8152.02593593  3238.08417076\n",
      "  8439.56108376 10594.63871458 15219.68736374  5647.8808143\n",
      "  3781.95285499 10228.944897   10900.12933883 11122.74845192\n",
      " 14438.14112575  7430.31504776  5386.22676759  9231.32739901\n",
      "  9343.76283713 12538.27606344  8337.66982683 15333.36900871\n",
      "  8411.2145439  31797.27496298 35785.91843418 31603.71967017\n",
      "  6011.96229251 12607.03584641  6013.5115031  14560.79590559\n",
      "  2493.47989441 32963.45524228  6265.14380504  5034.62173797\n",
      " 14344.81347407  6941.1412259  38670.01270366  3087.58741836\n",
      "  5885.8752536  31686.24200595 11562.61859836  8476.04749512\n",
      " 14806.72486264  9814.46186143 27105.71831469 33453.83352069\n",
      " 14551.8999207   1684.36856768 13166.96197398  2222.76894041\n",
      "  5449.59393727 11568.96325488 39807.96912709 36500.65163031\n",
      " 34001.37945748  3897.27856532  7456.14132125  8661.82084477\n",
      " 12450.92458882  4813.53293089  2047.65528159 32112.11251984\n",
      " 25111.52085938 17484.27663755 26411.46181822 10159.52421\n",
      " 37260.32666386  -441.23918333  6779.55013103  7781.45337795\n",
      "  4367.95988484  5105.87170813  5919.18675042  4305.71645941\n",
      " 15191.08806502 11132.09935114  6932.80116584  2525.64793222\n",
      "  1536.05183213 31944.78284317 16414.12251517 12011.53367195\n",
      "  1268.05926603 12531.25953189  1564.93415917  8737.33621694\n",
      "  1873.03940488 33916.22971211 10858.38635063  2603.43633853\n",
      " 25674.40250332 26343.43022704  9430.91152033  1800.73500777\n",
      " 13261.42480211  1120.17810533 10386.66427709 10567.29006474\n",
      " 16944.25995713 26846.54662457  6939.11178393  5193.04710054\n",
      "  5846.00017265 13229.60536846 11098.33930228  8362.28134289\n",
      "  5135.53940151 12308.34064139 13861.17886997 35773.70926219\n",
      "  4157.01930317 28917.86562624  -914.37342357  2873.71150671\n",
      " 11046.2540774  15683.06950225  5210.67532324  6888.38518351\n",
      "  3854.31140958 31312.64705453  7241.43226665 12405.99508651\n",
      "  5619.17039188  9528.22557021 36314.009043    4429.40596906\n",
      "  9667.91523953 31161.15738995  5747.13292318  4603.37294255\n",
      "  1048.35533791  4832.6604097   4574.9041044   6507.30666036\n",
      " 18659.12407756 -1545.57184934  2376.4352498  10694.62157146\n",
      "  3151.28919904 10209.96361187  3733.89128353  5125.08103172\n",
      " 12400.90700504  6218.65296628  8231.63765089  7590.50155269\n",
      "  8924.15352268 10482.90359975 27808.04576398 39061.50093248\n",
      " 11761.4991981   7687.56363151 40920.29151165 12318.58665305]\n"
     ]
    }
   ],
   "source": [
    "Y_pred = model.predict(X_test)\n",
    "print(Y_pred)"
   ]
  },
  {
   "cell_type": "markdown",
   "id": "c9139bea",
   "metadata": {},
   "source": [
    "# Random Test"
   ]
  },
  {
   "cell_type": "code",
   "execution_count": 23,
   "id": "a94d8477",
   "metadata": {},
   "outputs": [
    {
     "name": "stdout",
     "output_type": "stream",
     "text": [
      "32235.790053521865\n"
     ]
    },
    {
     "name": "stderr",
     "output_type": "stream",
     "text": [
      "C:\\ProgramData\\Anaconda3\\lib\\site-packages\\sklearn\\base.py:450: UserWarning: X does not have valid feature names, but LinearRegression was fitted with feature names\n",
      "  warnings.warn(\n"
     ]
    }
   ],
   "source": [
    "region = 'southeast'\n",
    "region_encoded = {\n",
    "    'northeast': [0, 0, 0],\n",
    "    'northwest': [0, 0, 1],\n",
    "    'southeast': [0, 1, 0],\n",
    "    'southwest': [0, 1, 1]\n",
    "}[region.lower()]\n",
    "input_data = input_data = np.array([28, 0, 33, 3, 1] + region_encoded).reshape(1, -1)\n",
    "prediction = model.predict(input_data)\n",
    "print(prediction)"
   ]
  },
  {
   "cell_type": "markdown",
   "id": "d6a7c113",
   "metadata": {},
   "source": [
    "# Checking the r-square value to know the Performance"
   ]
  },
  {
   "cell_type": "code",
   "execution_count": 13,
   "id": "4fbf16fa",
   "metadata": {},
   "outputs": [
    {
     "data": {
      "text/plain": [
       "0.7835929767120724"
      ]
     },
     "execution_count": 13,
     "metadata": {},
     "output_type": "execute_result"
    }
   ],
   "source": [
    "from sklearn.metrics import r2_score\n",
    "r2_score(Y_test,Y_pred)"
   ]
  },
  {
   "cell_type": "code",
   "execution_count": null,
   "id": "5453f7c2",
   "metadata": {},
   "outputs": [],
   "source": []
  }
 ],
 "metadata": {
  "kernelspec": {
   "display_name": "Python 3 (ipykernel)",
   "language": "python",
   "name": "python3"
  },
  "language_info": {
   "codemirror_mode": {
    "name": "ipython",
    "version": 3
   },
   "file_extension": ".py",
   "mimetype": "text/x-python",
   "name": "python",
   "nbconvert_exporter": "python",
   "pygments_lexer": "ipython3",
   "version": "3.9.12"
  }
 },
 "nbformat": 4,
 "nbformat_minor": 5
}
